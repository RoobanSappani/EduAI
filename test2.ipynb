{
 "cells": [
  {
   "cell_type": "code",
   "execution_count": null,
   "metadata": {},
   "outputs": [],
   "source": [
    "import cv2\n",
    "from htr_pipeline import read_page, DetectorConfig, LineClusteringConfig\n",
    "\n",
    "# read image\n",
    "img = cv2.imread('data/sample_1.png', cv2.IMREAD_GRAYSCALE)\n",
    "\n",
    "# detect and read text\n",
    "read_lines = read_page(img, \n",
    "                       DetectorConfig(scale=0.4, margin=5), \n",
    "                       line_clustering_config=LineClusteringConfig(min_words_per_line=2))\n",
    "\n",
    "# output text\n",
    "for read_line in read_lines:\n",
    "    print(' '.join(read_word.text for read_word in read_line))"
   ]
  }
 ],
 "metadata": {
  "kernelspec": {
   "display_name": "venv",
   "language": "python",
   "name": "python3"
  },
  "language_info": {
   "codemirror_mode": {
    "name": "ipython",
    "version": 3
   },
   "file_extension": ".py",
   "mimetype": "text/x-python",
   "name": "python",
   "nbconvert_exporter": "python",
   "pygments_lexer": "ipython3",
   "version": "3.11.4"
  }
 },
 "nbformat": 4,
 "nbformat_minor": 2
}
